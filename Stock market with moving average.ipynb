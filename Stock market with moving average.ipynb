{
  "nbformat": 4,
  "nbformat_minor": 0,
  "metadata": {
    "colab": {
      "name": "Untitled3.ipynb",
      "version": "0.3.2",
      "provenance": []
    },
    "kernelspec": {
      "name": "python2",
      "display_name": "Python 2"
    }
  },
  "cells": [
    {
      "metadata": {
        "id": "ZZ-pdWOfPD-J",
        "colab_type": "code",
        "outputId": "40b1dc11-322d-4f21-c223-81bec6040c7f",
        "colab": {
          "base_uri": "https://localhost:8080/",
          "height": 122
        }
      },
      "cell_type": "code",
      "source": [
        "from google.colab import drive\n",
        "drive.mount('/content/drive/')\n"
      ],
      "execution_count": 1,
      "outputs": [
        {
          "output_type": "stream",
          "text": [
            "Go to this URL in a browser: https://accounts.google.com/o/oauth2/auth?client_id=947318989803-6bn6qk8qdgf4n4g3pfee6491hc0brc4i.apps.googleusercontent.com&redirect_uri=urn%3Aietf%3Awg%3Aoauth%3A2.0%3Aoob&scope=email%20https%3A%2F%2Fwww.googleapis.com%2Fauth%2Fdocs.test%20https%3A%2F%2Fwww.googleapis.com%2Fauth%2Fdrive%20https%3A%2F%2Fwww.googleapis.com%2Fauth%2Fdrive.photos.readonly%20https%3A%2F%2Fwww.googleapis.com%2Fauth%2Fpeopleapi.readonly&response_type=code\n",
            "\n",
            "Enter your authorization code:\n",
            "··········\n",
            "Mounted at /content/drive/\n"
          ],
          "name": "stdout"
        }
      ]
    },
    {
      "metadata": {
        "id": "FGNfCSGnPI0N",
        "colab_type": "code",
        "colab": {
          "base_uri": "https://localhost:8080/",
          "height": 34
        },
        "outputId": "012d5b5a-3cf6-4e27-b04a-b29fbecc14ba"
      },
      "cell_type": "code",
      "source": [
        "import pandas as pd\n",
        "import matplotlib.pyplot as plt\n",
        "import numpy as np \n",
        "import math\n",
        "from sklearn.preprocessing import MinMaxScaler\n",
        "from sklearn.metrics import mean_squared_error\n",
        "from keras.models import Sequential\n",
        "from keras.layers import Dense, Activation ,Dropout\n",
        "from keras.layers import LSTM\n",
        "from scipy.io import savemat\n",
        "from sklearn.model_selection import train_test_split"
      ],
      "execution_count": 2,
      "outputs": [
        {
          "output_type": "stream",
          "text": [
            "Using TensorFlow backend.\n"
          ],
          "name": "stderr"
        }
      ]
    },
    {
      "metadata": {
        "id": "53_Uj1PkPLdz",
        "colab_type": "code",
        "outputId": "53eeaa31-0331-4baf-d1c1-6669f038055e",
        "colab": {
          "base_uri": "https://localhost:8080/",
          "height": 347
        }
      },
      "cell_type": "code",
      "source": [
        "data_whole=pd.read_csv('drive/My Drive/vallabhan/Nasdaq.csv')\n",
        "feature_cols = list(data_whole.columns[:-1])\n",
        "target_col = data_whole.columns[-1]\n",
        "X = data_whole[feature_cols].values\n",
        "y = data_whole[target_col].values\n",
        "#data=data_whole['ADBE']\n",
        "#data.dropna(inplace=True)\n",
        "plt.plot(y)\n",
        "plt.show()\n"
      ],
      "execution_count": 3,
      "outputs": [
        {
          "output_type": "display_data",
          "data": {
            "image/png": "[encoded data removed]",
            "text/plain": [
              "<matplotlib.figure.Figure at 0x7f04760f4a50>"
            ]
          },
          "metadata": {
            "tags": []
          }
        }
      ]
    },
    {
      "metadata": {
        "id": "ydNSOV6PPPQB",
        "colab_type": "code",
        "outputId": "8f48276f-34bb-42ab-f9a4-99d85fa2ef4a",
        "colab": {
          "base_uri": "https://localhost:8080/",
          "height": 34
        }
      },
      "cell_type": "code",
      "source": [
        "np.random.seed(7)\n",
        "scaler_x = MinMaxScaler(feature_range=(0,3))\n",
        "X = scaler_x.fit_transform(X)\n",
        "X = pd.DataFrame(X)\n",
        "scaler_y=MinMaxScaler()\n",
        "y=scaler_y.fit_transform(y.reshape(y.shape[0],1))\n",
        "y=pd.DataFrame(y)\n",
        "X['4'] = X.rolling(window=30).mean().sum(axis=1)\n",
        "X=X[29:]\n",
        "y=y[29:]\n",
        "train_size = int(len(X) * 0.6)\n",
        "test_size = len(X) - train_size\n",
        "trainX, testX = X.values[0:train_size,:], X.values[train_size:len(X),:]\n",
        "trainY, testY = y.values[0:train_size], y.values[train_size:len(X)]\n",
        "trainX = np.reshape(trainX, (trainX.shape[0], 1, trainX.shape[1]))\n",
        "testX = np.reshape(testX, (testX.shape[0], 1, testX.shape[1]))\n",
        "print(len(trainX), len(testX))"
      ],
      "execution_count": 4,
      "outputs": [
        {
          "output_type": "stream",
          "text": [
            "(4901, 3268)\n"
          ],
          "name": "stdout"
        }
      ]
    },
    {
      "metadata": {
        "id": "5MZzfwXtPoa0",
        "colab_type": "code",
        "outputId": "02bc665a-4d63-40eb-a36a-d8e281906a9f",
        "colab": {
          "base_uri": "https://localhost:8080/",
          "height": 3451
        }
      },
      "cell_type": "code",
      "source": [
        "model = Sequential()\n",
        "model.add(LSTM(20, input_shape=(1, 5),return_sequences = False))\n",
        "model.add(Dense(1))\n",
        "model.compile(loss='mean_squared_error', optimizer='adam')\n",
        "model.fit(trainX, trainY,validation_split=0.1, epochs=100, batch_size=10, verbose=2)"
      ],
      "execution_count": 5,
      "outputs": [
        {
          "output_type": "stream",
          "text": [
            "Train on 4410 samples, validate on 491 samples\n",
            "Epoch 1/100\n",
            " - 2s - loss: 5.5178e-04 - val_loss: 3.4314e-04\n",
            "Epoch 2/100\n",
            " - 1s - loss: 2.6721e-04 - val_loss: 1.4814e-04\n",
            "Epoch 3/100\n",
            " - 1s - loss: 2.6278e-04 - val_loss: 3.3306e-04\n",
            "Epoch 4/100\n",
            " - 1s - loss: 2.6191e-04 - val_loss: 1.3770e-04\n",
            "Epoch 5/100\n",
            " - 1s - loss: 2.4888e-04 - val_loss: 1.5177e-04\n",
            "Epoch 6/100\n",
            " - 1s - loss: 2.5979e-04 - val_loss: 1.2906e-04\n",
            "Epoch 7/100\n",
            " - 1s - loss: 2.6947e-04 - val_loss: 1.2498e-04\n",
            "Epoch 8/100\n",
            " - 1s - loss: 2.6489e-04 - val_loss: 1.8309e-04\n",
            "Epoch 9/100\n",
            " - 1s - loss: 2.4716e-04 - val_loss: 1.4839e-04\n",
            "Epoch 10/100\n",
            " - 1s - loss: 2.5066e-04 - val_loss: 1.3196e-04\n",
            "Epoch 11/100\n",
            " - 1s - loss: 2.4563e-04 - val_loss: 1.7656e-04\n",
            "Epoch 12/100\n",
            " - 1s - loss: 2.6370e-04 - val_loss: 1.5365e-04\n",
            "Epoch 13/100\n",
            " - 1s - loss: 2.5439e-04 - val_loss: 1.2841e-04\n",
            "Epoch 14/100\n",
            " - 1s - loss: 2.4638e-04 - val_loss: 1.3138e-04\n",
            "Epoch 15/100\n",
            " - 1s - loss: 2.5209e-04 - val_loss: 1.2934e-04\n",
            "Epoch 16/100\n",
            " - 1s - loss: 2.5727e-04 - val_loss: 1.3584e-04\n",
            "Epoch 17/100\n",
            " - 1s - loss: 2.4879e-04 - val_loss: 3.0315e-04\n",
            "Epoch 18/100\n",
            " - 1s - loss: 2.4682e-04 - val_loss: 2.9183e-04\n",
            "Epoch 19/100\n",
            " - 1s - loss: 2.3798e-04 - val_loss: 2.5368e-04\n",
            "Epoch 20/100\n",
            " - 1s - loss: 2.3649e-04 - val_loss: 1.3670e-04\n",
            "Epoch 21/100\n",
            " - 1s - loss: 2.3626e-04 - val_loss: 2.9726e-04\n",
            "Epoch 22/100\n",
            " - 1s - loss: 2.5000e-04 - val_loss: 1.4706e-04\n",
            "Epoch 23/100\n",
            " - 1s - loss: 2.5829e-04 - val_loss: 2.1876e-04\n",
            "Epoch 24/100\n",
            " - 1s - loss: 2.4022e-04 - val_loss: 1.7784e-04\n",
            "Epoch 25/100\n",
            " - 1s - loss: 2.3533e-04 - val_loss: 2.6362e-04\n",
            "Epoch 26/100\n",
            " - 1s - loss: 2.4123e-04 - val_loss: 1.3007e-04\n",
            "Epoch 27/100\n",
            " - 1s - loss: 2.4386e-04 - val_loss: 1.8768e-04\n",
            "Epoch 28/100\n",
            " - 1s - loss: 2.4067e-04 - val_loss: 1.4210e-04\n",
            "Epoch 29/100\n",
            " - 1s - loss: 2.3231e-04 - val_loss: 1.7561e-04\n",
            "Epoch 30/100\n",
            " - 1s - loss: 2.4827e-04 - val_loss: 6.0308e-04\n",
            "Epoch 31/100\n",
            " - 1s - loss: 2.4373e-04 - val_loss: 1.5901e-04\n",
            "Epoch 32/100\n",
            " - 1s - loss: 2.3303e-04 - val_loss: 1.7391e-04\n",
            "Epoch 33/100\n",
            " - 1s - loss: 2.2738e-04 - val_loss: 1.8539e-04\n",
            "Epoch 34/100\n",
            " - 1s - loss: 2.4005e-04 - val_loss: 5.3314e-04\n",
            "Epoch 35/100\n",
            " - 1s - loss: 2.4618e-04 - val_loss: 1.3350e-04\n",
            "Epoch 36/100\n",
            " - 1s - loss: 2.2912e-04 - val_loss: 1.3410e-04\n",
            "Epoch 37/100\n",
            " - 1s - loss: 2.4426e-04 - val_loss: 1.4080e-04\n",
            "Epoch 38/100\n",
            " - 1s - loss: 2.4005e-04 - val_loss: 2.2247e-04\n",
            "Epoch 39/100\n",
            " - 1s - loss: 2.4308e-04 - val_loss: 2.7787e-04\n",
            "Epoch 40/100\n",
            " - 1s - loss: 2.4408e-04 - val_loss: 1.5882e-04\n",
            "Epoch 41/100\n",
            " - 1s - loss: 2.2559e-04 - val_loss: 1.6892e-04\n",
            "Epoch 42/100\n",
            " - 1s - loss: 2.3395e-04 - val_loss: 1.7312e-04\n",
            "Epoch 43/100\n",
            " - 1s - loss: 2.3732e-04 - val_loss: 2.6734e-04\n",
            "Epoch 44/100\n",
            " - 1s - loss: 2.4015e-04 - val_loss: 1.7197e-04\n",
            "Epoch 45/100\n",
            " - 1s - loss: 2.2669e-04 - val_loss: 1.4101e-04\n",
            "Epoch 46/100\n",
            " - 1s - loss: 2.4648e-04 - val_loss: 1.7372e-04\n",
            "Epoch 47/100\n",
            " - 1s - loss: 2.2810e-04 - val_loss: 1.4107e-04\n",
            "Epoch 48/100\n",
            " - 1s - loss: 2.3075e-04 - val_loss: 1.3506e-04\n",
            "Epoch 49/100\n",
            " - 1s - loss: 2.3336e-04 - val_loss: 2.2112e-04\n",
            "Epoch 50/100\n",
            " - 1s - loss: 2.4127e-04 - val_loss: 2.0311e-04\n",
            "Epoch 51/100\n",
            " - 1s - loss: 2.4536e-04 - val_loss: 1.4082e-04\n",
            "Epoch 52/100\n",
            " - 1s - loss: 2.2995e-04 - val_loss: 1.4435e-04\n",
            "Epoch 53/100\n",
            " - 1s - loss: 2.3570e-04 - val_loss: 1.5805e-04\n",
            "Epoch 54/100\n",
            " - 1s - loss: 2.2732e-04 - val_loss: 1.4602e-04\n",
            "Epoch 55/100\n",
            " - 1s - loss: 2.3090e-04 - val_loss: 1.7082e-04\n",
            "Epoch 56/100\n",
            " - 1s - loss: 2.3756e-04 - val_loss: 1.8137e-04\n",
            "Epoch 57/100\n",
            " - 1s - loss: 2.3479e-04 - val_loss: 1.5120e-04\n",
            "Epoch 58/100\n",
            " - 1s - loss: 2.3310e-04 - val_loss: 1.7157e-04\n",
            "Epoch 59/100\n",
            " - 1s - loss: 2.3473e-04 - val_loss: 1.9673e-04\n",
            "Epoch 60/100\n",
            " - 1s - loss: 2.2465e-04 - val_loss: 1.3554e-04\n",
            "Epoch 61/100\n",
            " - 1s - loss: 2.3718e-04 - val_loss: 1.5140e-04\n",
            "Epoch 62/100\n",
            " - 1s - loss: 2.3264e-04 - val_loss: 1.5673e-04\n",
            "Epoch 63/100\n",
            " - 1s - loss: 2.3275e-04 - val_loss: 3.5285e-04\n",
            "Epoch 64/100\n",
            " - 1s - loss: 2.2746e-04 - val_loss: 1.6598e-04\n",
            "Epoch 65/100\n",
            " - 1s - loss: 2.2183e-04 - val_loss: 1.7289e-04\n",
            "Epoch 66/100\n",
            " - 1s - loss: 2.2539e-04 - val_loss: 1.4986e-04\n",
            "Epoch 67/100\n",
            " - 1s - loss: 2.2099e-04 - val_loss: 1.8609e-04\n",
            "Epoch 68/100\n",
            " - 1s - loss: 2.3166e-04 - val_loss: 2.2021e-04\n",
            "Epoch 69/100\n",
            " - 1s - loss: 2.3337e-04 - val_loss: 1.9543e-04\n",
            "Epoch 70/100\n",
            " - 1s - loss: 2.2855e-04 - val_loss: 2.2478e-04\n",
            "Epoch 71/100\n",
            " - 1s - loss: 2.3026e-04 - val_loss: 1.8150e-04\n",
            "Epoch 72/100\n",
            " - 1s - loss: 2.2887e-04 - val_loss: 1.5082e-04\n",
            "Epoch 73/100\n",
            " - 1s - loss: 2.3312e-04 - val_loss: 4.3914e-04\n",
            "Epoch 74/100\n",
            " - 1s - loss: 2.3153e-04 - val_loss: 1.6964e-04\n",
            "Epoch 75/100\n",
            " - 1s - loss: 2.3148e-04 - val_loss: 1.6803e-04\n",
            "Epoch 76/100\n",
            " - 1s - loss: 2.2211e-04 - val_loss: 1.8469e-04\n",
            "Epoch 77/100\n",
            " - 1s - loss: 2.3244e-04 - val_loss: 1.4332e-04\n",
            "Epoch 78/100\n",
            " - 1s - loss: 2.3088e-04 - val_loss: 2.3526e-04\n",
            "Epoch 79/100\n",
            " - 1s - loss: 2.2583e-04 - val_loss: 1.4868e-04\n",
            "Epoch 80/100\n",
            " - 1s - loss: 2.2077e-04 - val_loss: 1.5063e-04\n",
            "Epoch 81/100\n",
            " - 1s - loss: 2.2650e-04 - val_loss: 3.2612e-04\n",
            "Epoch 82/100\n",
            " - 1s - loss: 2.2429e-04 - val_loss: 1.6747e-04\n",
            "Epoch 83/100\n",
            " - 1s - loss: 2.2857e-04 - val_loss: 2.1100e-04\n",
            "Epoch 84/100\n",
            " - 1s - loss: 2.1511e-04 - val_loss: 2.6101e-04\n",
            "Epoch 85/100\n",
            " - 1s - loss: 2.2302e-04 - val_loss: 1.5593e-04\n",
            "Epoch 86/100\n",
            " - 1s - loss: 2.2401e-04 - val_loss: 1.6149e-04\n",
            "Epoch 87/100\n",
            " - 1s - loss: 2.2222e-04 - val_loss: 1.8614e-04\n",
            "Epoch 88/100\n",
            " - 1s - loss: 2.3196e-04 - val_loss: 2.5389e-04\n",
            "Epoch 89/100\n",
            " - 1s - loss: 2.2813e-04 - val_loss: 1.7335e-04\n",
            "Epoch 90/100\n",
            " - 1s - loss: 2.2539e-04 - val_loss: 1.7094e-04\n",
            "Epoch 91/100\n",
            " - 1s - loss: 2.2235e-04 - val_loss: 1.5392e-04\n",
            "Epoch 92/100\n",
            " - 1s - loss: 2.2465e-04 - val_loss: 1.6460e-04\n",
            "Epoch 93/100\n",
            " - 1s - loss: 2.1471e-04 - val_loss: 1.7343e-04\n",
            "Epoch 94/100\n",
            " - 1s - loss: 2.1962e-04 - val_loss: 1.6036e-04\n",
            "Epoch 95/100\n",
            " - 1s - loss: 2.2435e-04 - val_loss: 1.6842e-04\n",
            "Epoch 96/100\n",
            " - 1s - loss: 2.2138e-04 - val_loss: 1.7292e-04\n",
            "Epoch 97/100\n",
            " - 1s - loss: 2.2300e-04 - val_loss: 1.4434e-04\n",
            "Epoch 98/100\n",
            " - 1s - loss: 2.2174e-04 - val_loss: 1.8874e-04\n",
            "Epoch 99/100\n",
            " - 1s - loss: 2.1449e-04 - val_loss: 1.9919e-04\n",
            "Epoch 100/100\n",
            " - 1s - loss: 2.1668e-04 - val_loss: 1.6402e-04\n"
          ],
          "name": "stdout"
        },
        {
          "output_type": "execute_result",
          "data": {
            "text/plain": [
              "<keras.callbacks.History at 0x7f0461b8ecd0>"
            ]
          },
          "metadata": {
            "tags": []
          },
          "execution_count": 5
        }
      ]
    },
    {
      "metadata": {
        "id": "Nx3V-335Prmm",
        "colab_type": "code",
        "colab": {
          "base_uri": "https://localhost:8080/",
          "height": 51
        },
        "outputId": "5d9777df-4dcc-4ed7-849c-7d0271809d48"
      },
      "cell_type": "code",
      "source": [
        "trainPredict = model.predict(trainX)\n",
        "testPredict = model.predict(testX)\n",
        "trainPredict = scaler_y.inverse_transform(trainPredict)\n",
        "trainY = scaler_y.inverse_transform(trainY)\n",
        "testPredict = scaler_y.inverse_transform(testPredict)\n",
        "testY = scaler_y.inverse_transform(testY)\n",
        "lst={}\n",
        "lst['trainPredict']=trainPredict\n",
        "lst['testPredict']=testPredict\n",
        "lst['trainY']=trainY\n",
        "lst['testY']=testY\n",
        "savemat('lstm.mat',lst)\n",
        "trainScore = math.sqrt(mean_squared_error(trainY, trainPredict[:,0]))\n",
        "print('Train Score: %.2f RMSE' % (trainScore))\n",
        "testScore = math.sqrt(mean_squared_error(testY, testPredict[:,0]))\n",
        "print('Test Score: %.2f RMSE' % (testScore))"
      ],
      "execution_count": 6,
      "outputs": [
        {
          "output_type": "stream",
          "text": [
            "Train Score: 82.97 RMSE\n",
            "Test Score: 251.45 RMSE\n"
          ],
          "name": "stdout"
        }
      ]
    },
    {
      "metadata": {
        "id": "lM8-CBl_Puqh",
        "colab_type": "code",
        "colab": {
          "base_uri": "https://localhost:8080/",
          "height": 347
        },
        "outputId": "e6a578a7-dd00-465c-dd54-0f03d636c8ac"
      },
      "cell_type": "code",
      "source": [
        "trainPredictPlot = np.empty_like(y)\n",
        "trainPredictPlot[:] = np.nan\n",
        "trainPredictPlot[:len(trainPredict)] = trainPredict\n",
        "# shift test predictions for plotting\n",
        "testPredictPlot = np.empty_like(y)\n",
        "testPredictPlot[:] = np.nan\n",
        "testPredictPlot[len(trainPredict):len(y)]= testPredict\n",
        "# plot baseline and predictions\n",
        "plt.plot(scaler_y.inverse_transform(y))\n",
        "plt.plot(trainPredict,'r')\n",
        "plt.plot(testPredictPlot)\n",
        "plt.show()"
      ],
      "execution_count": 7,
      "outputs": [
        {
          "output_type": "display_data",
          "data": {
            "image/png": "[encoded data removed]",
            "text/plain": [
              "<matplotlib.figure.Figure at 0x7f0464b91410>"
            ]
          },
          "metadata": {
            "tags": []
          }
        }
      ]
    }
  ]
}
