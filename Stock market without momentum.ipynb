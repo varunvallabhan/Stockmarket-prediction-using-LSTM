{
  "nbformat": 4,
  "nbformat_minor": 0,
  "metadata": {
    "colab": {
      "name": "Untitled2.ipynb",
      "version": "0.3.2",
      "provenance": []
    },
    "kernelspec": {
      "name": "python2",
      "display_name": "Python 2"
    },
    "accelerator": "TPU"
  },
  "cells": [
    {
      "metadata": {
        "id": "fFUI0KzTZN_q",
        "colab_type": "code",
        "outputId": "489f77ad-bbac-4803-b760-03920de8e1af",
        "colab": {
          "base_uri": "https://localhost:8080/",
          "height": 122
        }
      },
      "cell_type": "code",
      "source": [
        "from google.colab import drive\n",
        "drive.mount('/content/drive/')"
      ],
      "execution_count": 0,
      "outputs": [
        {
          "output_type": "stream",
          "text": [
            "Go to this URL in a browser: https://accounts.google.com/o/oauth2/auth?client_id=947318989803-6bn6qk8qdgf4n4g3pfee6491hc0brc4i.apps.googleusercontent.com&redirect_uri=urn%3Aietf%3Awg%3Aoauth%3A2.0%3Aoob&scope=email%20https%3A%2F%2Fwww.googleapis.com%2Fauth%2Fdocs.test%20https%3A%2F%2Fwww.googleapis.com%2Fauth%2Fdrive%20https%3A%2F%2Fwww.googleapis.com%2Fauth%2Fdrive.photos.readonly%20https%3A%2F%2Fwww.googleapis.com%2Fauth%2Fpeopleapi.readonly&response_type=code\n",
            "\n",
            "Enter your authorization code:\n",
            "··········\n",
            "Mounted at /content/drive/\n"
          ],
          "name": "stdout"
        }
      ]
    },
    {
      "metadata": {
        "id": "QqlS9kFwZSgL",
        "colab_type": "code",
        "outputId": "480165ab-b379-4beb-a828-f538c7af58d1",
        "colab": {
          "base_uri": "https://localhost:8080/",
          "height": 34
        }
      },
      "cell_type": "code",
      "source": [
        "import pandas as pd\n",
        "import matplotlib.pyplot as plt\n",
        "import numpy as np \n",
        "import math\n",
        "from sklearn.preprocessing import MinMaxScaler\n",
        "from sklearn.metrics import mean_squared_error\n",
        "from keras.models import Sequential\n",
        "from keras.layers import Dense, Activation ,Dropout\n",
        "from keras.layers import LSTM\n",
        "from scipy.io import savemat\n",
        "from sklearn.model_selection import train_test_split"
      ],
      "execution_count": 0,
      "outputs": [
        {
          "output_type": "stream",
          "text": [
            "Using TensorFlow backend.\n"
          ],
          "name": "stderr"
        }
      ]
    },
    {
      "metadata": {
        "id": "yyHeIzgTZViU",
        "colab_type": "code",
        "colab": {}
      },
      "cell_type": "code",
      "source": [
        "def create_dataset(dataset, look_back=1):\n",
        "\tdataX, dataY = [], []\n",
        "\tfor i in range(len(dataset)-look_back-1):\n",
        "\t\ta = dataset[i:(i+look_back)]\n",
        "\t\tdataX.append(a)\n",
        "\t\tdataY.append(dataset[i + look_back])\n",
        "\treturn np.array(dataX), np.array(dataY)"
      ],
      "execution_count": 0,
      "outputs": []
    },
    {
      "metadata": {
        "id": "IbE-VD5TZYHf",
        "colab_type": "code",
        "outputId": "269425f2-f6c2-4f62-c546-fb8cd14e90d8",
        "colab": {
          "base_uri": "https://localhost:8080/",
          "height": 347
        }
      },
      "cell_type": "code",
      "source": [
        "data_whole=pd.read_csv('drive/My Drive/vallabhan/Nasdaq.csv')\n",
        "feature_cols = list(data_whole.columns[:-1])\n",
        "target_col = data_whole.columns[-1]\n",
        "X = data_whole[feature_cols].values\n",
        "y = data_whole[target_col].values\n",
        "#data=data_whole['ADBE']\n",
        "#data.dropna(inplace=True)\n",
        "plt.plot(y)\n",
        "plt.show()\n"
      ],
      "execution_count": 0,
      "outputs": [
        {
          "output_type": "display_data",
          "data": {
            "image/png": "[encoded data removed]",
            "text/plain": [
              "<matplotlib.figure.Figure at 0x7f2f35d42490>"
            ]
          },
          "metadata": {
            "tags": []
          }
        }
      ]
    },
    {
      "metadata": {
        "id": "1wF8XAZiZbwu",
        "colab_type": "code",
        "outputId": "381ea2a2-e589-408a-c78d-5efcaf05f717",
        "colab": {
          "base_uri": "https://localhost:8080/",
          "height": 34
        }
      },
      "cell_type": "code",
      "source": [
        "np.random.seed(7)\n",
        "scaler_x = MinMaxScaler(feature_range=(0,3))\n",
        "X = scaler_x.fit_transform(X)\n",
        "X = pd.DataFrame(X)\n",
        "scaler_y=MinMaxScaler()\n",
        "y=scaler_y.fit_transform(y.reshape(y.shape[0],1))\n",
        "y=pd.DataFrame(y)\n",
        "train_size = int(len(X) * 0.6)\n",
        "test_size = len(X) - train_size\n",
        "trainX, testX = X.values[0:train_size,:], X.values[train_size:len(X),:]\n",
        "trainY, testY = y.values[0:train_size], y.values[train_size:len(X)]\n",
        "trainX = np.reshape(trainX, (trainX.shape[0], 1, trainX.shape[1]))\n",
        "testX = np.reshape(testX, (testX.shape[0], 1, testX.shape[1]))\n",
        "print(len(trainX), len(testX))"
      ],
      "execution_count": 0,
      "outputs": [
        {
          "output_type": "stream",
          "text": [
            "(4918, 3280)\n"
          ],
          "name": "stdout"
        }
      ]
    },
    {
      "metadata": {
        "id": "zJr4gFSBZfOf",
        "colab_type": "code",
        "outputId": "0a91d988-3519-4662-f65f-85b9d50baa6b",
        "colab": {
          "base_uri": "https://localhost:8080/",
          "height": 3451
        }
      },
      "cell_type": "code",
      "source": [
        "model = Sequential()\n",
        "model.add(LSTM(20, input_shape=(1, 4),return_sequences = False))\n",
        "model.add(Dense(1))\n",
        "model.compile(loss='mean_squared_error', optimizer='adam')\n",
        "model.fit(trainX, trainY,validation_split=0.1, epochs=100, batch_size=10, verbose=2)"
      ],
      "execution_count": 0,
      "outputs": [
        {
          "output_type": "stream",
          "text": [
            "Train on 4426 samples, validate on 492 samples\n",
            "Epoch 1/100\n",
            " - 2s - loss: 6.9420e-04 - val_loss: 1.2761e-04\n",
            "Epoch 2/100\n",
            " - 1s - loss: 2.5594e-04 - val_loss: 1.7227e-04\n",
            "Epoch 3/100\n",
            " - 1s - loss: 2.5253e-04 - val_loss: 1.3158e-04\n",
            "Epoch 4/100\n",
            " - 1s - loss: 2.4789e-04 - val_loss: 1.6050e-04\n",
            "Epoch 5/100\n",
            " - 1s - loss: 2.5888e-04 - val_loss: 1.3347e-04\n",
            "Epoch 6/100\n",
            " - 1s - loss: 2.4811e-04 - val_loss: 1.2968e-04\n",
            "Epoch 7/100\n",
            " - 1s - loss: 2.5437e-04 - val_loss: 1.3757e-04\n",
            "Epoch 8/100\n",
            " - 1s - loss: 2.4836e-04 - val_loss: 1.2646e-04\n",
            "Epoch 9/100\n",
            " - 1s - loss: 2.5486e-04 - val_loss: 1.6910e-04\n",
            "Epoch 10/100\n",
            " - 1s - loss: 2.4103e-04 - val_loss: 3.9271e-04\n",
            "Epoch 11/100\n",
            " - 1s - loss: 2.6176e-04 - val_loss: 1.2902e-04\n",
            "Epoch 12/100\n",
            " - 1s - loss: 2.5436e-04 - val_loss: 2.3620e-04\n",
            "Epoch 13/100\n",
            " - 1s - loss: 2.5305e-04 - val_loss: 1.7652e-04\n",
            "Epoch 14/100\n",
            " - 1s - loss: 2.4718e-04 - val_loss: 1.4024e-04\n",
            "Epoch 15/100\n",
            " - 1s - loss: 2.5397e-04 - val_loss: 1.2588e-04\n",
            "Epoch 16/100\n",
            " - 1s - loss: 2.4823e-04 - val_loss: 2.4022e-04\n",
            "Epoch 17/100\n",
            " - 1s - loss: 2.4233e-04 - val_loss: 1.3557e-04\n",
            "Epoch 18/100\n",
            " - 1s - loss: 2.4881e-04 - val_loss: 1.2912e-04\n",
            "Epoch 19/100\n",
            " - 1s - loss: 2.5472e-04 - val_loss: 1.3189e-04\n",
            "Epoch 20/100\n",
            " - 1s - loss: 2.4438e-04 - val_loss: 1.8511e-04\n",
            "Epoch 21/100\n",
            " - 1s - loss: 2.4406e-04 - val_loss: 1.2963e-04\n",
            "Epoch 22/100\n",
            " - 1s - loss: 2.4768e-04 - val_loss: 1.2663e-04\n",
            "Epoch 23/100\n",
            " - 1s - loss: 2.4483e-04 - val_loss: 1.2539e-04\n",
            "Epoch 24/100\n",
            " - 1s - loss: 2.4082e-04 - val_loss: 2.3150e-04\n",
            "Epoch 25/100\n",
            " - 1s - loss: 2.4624e-04 - val_loss: 2.4340e-04\n",
            "Epoch 26/100\n",
            " - 1s - loss: 2.4268e-04 - val_loss: 1.3252e-04\n",
            "Epoch 27/100\n",
            " - 1s - loss: 2.4582e-04 - val_loss: 1.3655e-04\n",
            "Epoch 28/100\n",
            " - 1s - loss: 2.4641e-04 - val_loss: 2.3008e-04\n",
            "Epoch 29/100\n",
            " - 1s - loss: 2.4759e-04 - val_loss: 1.3031e-04\n",
            "Epoch 30/100\n",
            " - 1s - loss: 2.4307e-04 - val_loss: 1.2609e-04\n",
            "Epoch 31/100\n",
            " - 1s - loss: 2.3952e-04 - val_loss: 1.5821e-04\n",
            "Epoch 32/100\n",
            " - 1s - loss: 2.4914e-04 - val_loss: 1.3841e-04\n",
            "Epoch 33/100\n",
            " - 1s - loss: 2.4637e-04 - val_loss: 2.2396e-04\n",
            "Epoch 34/100\n",
            " - 1s - loss: 2.3744e-04 - val_loss: 1.3016e-04\n",
            "Epoch 35/100\n",
            " - 1s - loss: 2.5149e-04 - val_loss: 1.7748e-04\n",
            "Epoch 36/100\n",
            " - 1s - loss: 2.4945e-04 - val_loss: 1.4882e-04\n",
            "Epoch 37/100\n",
            " - 1s - loss: 2.5100e-04 - val_loss: 1.2685e-04\n",
            "Epoch 38/100\n",
            " - 1s - loss: 2.3786e-04 - val_loss: 3.8981e-04\n",
            "Epoch 39/100\n",
            " - 1s - loss: 2.4135e-04 - val_loss: 1.3077e-04\n",
            "Epoch 40/100\n",
            " - 1s - loss: 2.4369e-04 - val_loss: 1.2738e-04\n",
            "Epoch 41/100\n",
            " - 1s - loss: 2.4544e-04 - val_loss: 1.7341e-04\n",
            "Epoch 42/100\n",
            " - 1s - loss: 2.3903e-04 - val_loss: 1.5060e-04\n",
            "Epoch 43/100\n",
            " - 1s - loss: 2.4666e-04 - val_loss: 1.7315e-04\n",
            "Epoch 44/100\n",
            " - 1s - loss: 2.3420e-04 - val_loss: 1.3143e-04\n",
            "Epoch 45/100\n",
            " - 1s - loss: 2.3914e-04 - val_loss: 1.8641e-04\n",
            "Epoch 46/100\n",
            " - 1s - loss: 2.4666e-04 - val_loss: 2.0577e-04\n",
            "Epoch 47/100\n",
            " - 1s - loss: 2.3796e-04 - val_loss: 1.7312e-04\n",
            "Epoch 48/100\n",
            " - 1s - loss: 2.4023e-04 - val_loss: 2.6457e-04\n",
            "Epoch 49/100\n",
            " - 1s - loss: 2.4393e-04 - val_loss: 1.4293e-04\n",
            "Epoch 50/100\n",
            " - 1s - loss: 2.4627e-04 - val_loss: 2.0110e-04\n",
            "Epoch 51/100\n",
            " - 1s - loss: 2.4916e-04 - val_loss: 1.4445e-04\n",
            "Epoch 52/100\n",
            " - 1s - loss: 2.4388e-04 - val_loss: 1.2759e-04\n",
            "Epoch 53/100\n",
            " - 1s - loss: 2.4314e-04 - val_loss: 1.6136e-04\n",
            "Epoch 54/100\n",
            " - 1s - loss: 2.3942e-04 - val_loss: 1.7081e-04\n",
            "Epoch 55/100\n",
            " - 1s - loss: 2.4014e-04 - val_loss: 1.5712e-04\n",
            "Epoch 56/100\n",
            " - 1s - loss: 2.3912e-04 - val_loss: 1.7386e-04\n",
            "Epoch 57/100\n",
            " - 1s - loss: 2.3669e-04 - val_loss: 1.2727e-04\n",
            "Epoch 58/100\n",
            " - 1s - loss: 2.4003e-04 - val_loss: 1.3603e-04\n",
            "Epoch 59/100\n",
            " - 1s - loss: 2.4022e-04 - val_loss: 1.4025e-04\n",
            "Epoch 60/100\n",
            " - 1s - loss: 2.4815e-04 - val_loss: 1.4779e-04\n",
            "Epoch 61/100\n",
            " - 1s - loss: 2.4551e-04 - val_loss: 1.4281e-04\n",
            "Epoch 62/100\n",
            " - 1s - loss: 2.3881e-04 - val_loss: 1.3589e-04\n",
            "Epoch 63/100\n",
            " - 1s - loss: 2.3420e-04 - val_loss: 1.3409e-04\n",
            "Epoch 64/100\n",
            " - 1s - loss: 2.3669e-04 - val_loss: 1.4934e-04\n",
            "Epoch 65/100\n",
            " - 1s - loss: 2.4380e-04 - val_loss: 1.3303e-04\n",
            "Epoch 66/100\n",
            " - 1s - loss: 2.4067e-04 - val_loss: 1.3476e-04\n",
            "Epoch 67/100\n",
            " - 1s - loss: 2.4347e-04 - val_loss: 1.3319e-04\n",
            "Epoch 68/100\n",
            " - 1s - loss: 2.4233e-04 - val_loss: 1.7471e-04\n",
            "Epoch 69/100\n",
            " - 1s - loss: 2.3964e-04 - val_loss: 2.5202e-04\n",
            "Epoch 70/100\n",
            " - 1s - loss: 2.4211e-04 - val_loss: 1.3991e-04\n",
            "Epoch 71/100\n",
            " - 1s - loss: 2.3997e-04 - val_loss: 1.3549e-04\n",
            "Epoch 72/100\n",
            " - 1s - loss: 2.4018e-04 - val_loss: 1.4479e-04\n",
            "Epoch 73/100\n",
            " - 1s - loss: 2.4454e-04 - val_loss: 1.9568e-04\n",
            "Epoch 74/100\n",
            " - 1s - loss: 2.3782e-04 - val_loss: 1.2884e-04\n",
            "Epoch 75/100\n",
            " - 1s - loss: 2.3677e-04 - val_loss: 1.3110e-04\n",
            "Epoch 76/100\n",
            " - 1s - loss: 2.4213e-04 - val_loss: 1.3738e-04\n",
            "Epoch 77/100\n",
            " - 1s - loss: 2.3335e-04 - val_loss: 1.2711e-04\n",
            "Epoch 78/100\n",
            " - 1s - loss: 2.3769e-04 - val_loss: 1.5904e-04\n",
            "Epoch 79/100\n",
            " - 1s - loss: 2.3560e-04 - val_loss: 1.3006e-04\n",
            "Epoch 80/100\n",
            " - 1s - loss: 2.3855e-04 - val_loss: 2.0478e-04\n",
            "Epoch 81/100\n",
            " - 1s - loss: 2.3140e-04 - val_loss: 1.4663e-04\n",
            "Epoch 82/100\n",
            " - 1s - loss: 2.3815e-04 - val_loss: 1.4140e-04\n",
            "Epoch 83/100\n",
            " - 1s - loss: 2.3578e-04 - val_loss: 1.4000e-04\n",
            "Epoch 84/100\n",
            " - 1s - loss: 2.3537e-04 - val_loss: 1.5483e-04\n",
            "Epoch 85/100\n",
            " - 1s - loss: 2.4090e-04 - val_loss: 1.5814e-04\n",
            "Epoch 86/100\n",
            " - 1s - loss: 2.4461e-04 - val_loss: 1.5451e-04\n",
            "Epoch 87/100\n",
            " - 1s - loss: 2.3649e-04 - val_loss: 1.7031e-04\n",
            "Epoch 88/100\n",
            " - 1s - loss: 2.3985e-04 - val_loss: 1.4836e-04\n",
            "Epoch 89/100\n",
            " - 1s - loss: 2.3467e-04 - val_loss: 1.6173e-04\n",
            "Epoch 90/100\n",
            " - 1s - loss: 2.4276e-04 - val_loss: 1.5883e-04\n",
            "Epoch 91/100\n",
            " - 1s - loss: 2.3752e-04 - val_loss: 1.4070e-04\n",
            "Epoch 92/100\n",
            " - 1s - loss: 2.3850e-04 - val_loss: 1.5597e-04\n",
            "Epoch 93/100\n",
            " - 1s - loss: 2.5065e-04 - val_loss: 2.1496e-04\n",
            "Epoch 94/100\n",
            " - 1s - loss: 2.3491e-04 - val_loss: 2.3890e-04\n",
            "Epoch 95/100\n",
            " - 1s - loss: 2.3466e-04 - val_loss: 1.4105e-04\n",
            "Epoch 96/100\n",
            " - 1s - loss: 2.3188e-04 - val_loss: 2.0498e-04\n",
            "Epoch 97/100\n",
            " - 1s - loss: 2.3819e-04 - val_loss: 2.0453e-04\n",
            "Epoch 98/100\n",
            " - 1s - loss: 2.3629e-04 - val_loss: 1.7132e-04\n",
            "Epoch 99/100\n",
            " - 1s - loss: 2.4067e-04 - val_loss: 1.5485e-04\n",
            "Epoch 100/100\n",
            " - 1s - loss: 2.3806e-04 - val_loss: 1.3755e-04\n"
          ],
          "name": "stdout"
        },
        {
          "output_type": "execute_result",
          "data": {
            "text/plain": [
              "<keras.callbacks.History at 0x7f2f21d55e90>"
            ]
          },
          "metadata": {
            "tags": []
          },
          "execution_count": 6
        }
      ]
    },
    {
      "metadata": {
        "id": "D_INVy_-Zh6l",
        "colab_type": "code",
        "outputId": "0b8b637f-4ee9-473e-952b-f893112426d4",
        "colab": {
          "base_uri": "https://localhost:8080/",
          "height": 51
        }
      },
      "cell_type": "code",
      "source": [
        "trainPredict = model.predict(trainX)\n",
        "testPredict = model.predict(testX)\n",
        "trainPredict = scaler_y.inverse_transform(trainPredict)\n",
        "trainY = scaler_y.inverse_transform(trainY)\n",
        "testPredict = scaler_y.inverse_transform(testPredict)\n",
        "testY = scaler_y.inverse_transform(testY)\n",
        "lst={}\n",
        "lst['trainPredict']=trainPredict\n",
        "lst['testPredict']=testPredict\n",
        "lst['trainY']=trainY\n",
        "lst['testY']=testY\n",
        "savemat('lstm.mat',lst)\n",
        "trainScore = math.sqrt(mean_squared_error(trainY, trainPredict[:,0]))\n",
        "print('Train Score: %.2f RMSE' % (trainScore))\n",
        "testScore = math.sqrt(mean_squared_error(testY, testPredict[:,0]))\n",
        "print('Test Score: %.2f RMSE' % (testScore))"
      ],
      "execution_count": 0,
      "outputs": [
        {
          "output_type": "stream",
          "text": [
            "Train Score: 84.67 RMSE\n",
            "Test Score: 145.71 RMSE\n"
          ],
          "name": "stdout"
        }
      ]
    },
    {
      "metadata": {
        "id": "8ZuXZrSPZkRA",
        "colab_type": "code",
        "outputId": "ee692162-a2a2-4539-fa29-353579193658",
        "colab": {
          "base_uri": "https://localhost:8080/",
          "height": 347
        }
      },
      "cell_type": "code",
      "source": [
        "trainPredictPlot = np.empty_like(y)\n",
        "trainPredictPlot[:] = np.nan\n",
        "trainPredictPlot[:len(trainPredict)] = trainPredict\n",
        "# shift test predictions for plotting\n",
        "testPredictPlot = np.empty_like(y)\n",
        "testPredictPlot[:] = np.nan\n",
        "testPredictPlot[len(trainPredict):len(y)]= testPredict\n",
        "# plot baseline and predictions\n",
        "plt.plot(scaler_y.inverse_transform(y))\n",
        "plt.plot(trainPredict,'r')\n",
        "plt.plot(testPredictPlot)\n",
        "plt.show()"
      ],
      "execution_count": 0,
      "outputs": [
        {
          "output_type": "display_data",
          "data": {
            "image/png": "[encoded data removed]",
            "text/plain": [
              "<matplotlib.figure.Figure at 0x7f2f2497e050>"
            ]
          },
          "metadata": {
            "tags": []
          }
        }
      ]
    }
  ]
}